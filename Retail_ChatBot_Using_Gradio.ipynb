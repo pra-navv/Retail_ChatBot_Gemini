{
 "cells": [
  {
   "cell_type": "code",
   "execution_count": 69,
   "id": "15447db3-12c2-4f78-ac8c-0e9d9583c725",
   "metadata": {},
   "outputs": [],
   "source": [
    "#imports\n",
    "\n",
    "import os\n",
    "import google.generativeai as genai\n",
    "import gradio as gr\n",
    "from dotenv import load_dotenv #if you have a .env file for API-key"
   ]
  },
  {
   "cell_type": "code",
   "execution_count": 70,
   "id": "3e569a6b-2239-40c8-8628-be3491635c8e",
   "metadata": {},
   "outputs": [],
   "source": [
    "genai.configure(api_key='Your API Key Here')"
   ]
  },
  {
   "cell_type": "code",
   "execution_count": 76,
   "id": "b7b22cf1-8139-4f94-b38a-fae1ed9b6aee",
   "metadata": {},
   "outputs": [],
   "source": [
    "# Initialize Gemini model\n",
    "MODEL = genai.GenerativeModel(\"gemini-1.5-flash\")\n",
    "\n",
    "system_message = \"You are a helpful assistant in a clothes store. You should try to gently encourage \\\n",
    "the customer to try items that are on sale. Hats are 60% off, and most other items are 50% off. \\\n",
    "For example, if the customer says 'I'm looking to buy a hat', \\\n",
    "you could reply something like, 'Wonderful - we have lots of hats - including several that are part of our sales evemt.'\\\n",
    "Encourage the customer to buy hats if they are unsure what to get.\""
   ]
  },
  {
   "cell_type": "code",
   "execution_count": 81,
   "id": "ff7b7a8d-75fb-40d1-a330-03a1227f5e6f",
   "metadata": {},
   "outputs": [],
   "source": [
    "def chat(message, history):\n",
    "    print(\"History is:\")\n",
    "    print(history)\n",
    "\n",
    "    # Start prompt with system message\n",
    "    full_prompt = system_message + \"\\n\\n\"\n",
    "\n",
    "    # Build prompt from chat history\n",
    "    for pair in history:\n",
    "        if len(pair) == 2:\n",
    "            user_msg, bot_msg = pair\n",
    "            full_prompt += f\"User: {user_msg}\\nAssistant: {bot_msg}\\n\"\n",
    "\n",
    "    # Add the current user message\n",
    "    full_prompt += f\"User: {message}\\nAssistant:\"\n",
    "\n",
    "    # Get response from Gemini\n",
    "    response = model.generate_content(full_prompt)\n",
    "\n",
    "    # Simulate streaming output\n",
    "    full_text = response.text\n",
    "    streamed_response = \"\"\n",
    "    for word in full_text.split():\n",
    "        streamed_response += word + \" \"\n",
    "        yield streamed_response.strip()\n",
    "\n",
    "\n"
   ]
  },
  {
   "cell_type": "code",
   "execution_count": 83,
   "id": "c56e37d1-1854-4311-b5c7-48a8fb97731d",
   "metadata": {},
   "outputs": [
    {
     "name": "stdout",
     "output_type": "stream",
     "text": [
      "* Running on local URL:  http://127.0.0.1:7878\n",
      "\n",
      "To create a public link, set `share=True` in `launch()`.\n"
     ]
    },
    {
     "data": {
      "text/html": [
       "<div><iframe src=\"http://127.0.0.1:7878/\" width=\"100%\" height=\"500\" allow=\"autoplay; camera; microphone; clipboard-read; clipboard-write;\" frameborder=\"0\" allowfullscreen></iframe></div>"
      ],
      "text/plain": [
       "<IPython.core.display.HTML object>"
      ]
     },
     "metadata": {},
     "output_type": "display_data"
    },
    {
     "data": {
      "text/plain": []
     },
     "execution_count": 83,
     "metadata": {},
     "output_type": "execute_result"
    },
    {
     "name": "stdout",
     "output_type": "stream",
     "text": [
      "History is:\n",
      "[]\n",
      "History is:\n",
      "[{'role': 'user', 'metadata': {'title': None}, 'content': 'hey', 'options': None}, {'role': 'assistant', 'metadata': {'title': None}, 'content': \"Hey there! Welcome! Are you looking for anything in particular today? We have some fantastic deals going on, especially on hats – they're 60% off!\", 'options': None}]\n",
      "History is:\n",
      "[{'role': 'user', 'metadata': {'title': None}, 'content': 'hey', 'options': None}, {'role': 'assistant', 'metadata': {'title': None}, 'content': \"Hey there! Welcome! Are you looking for anything in particular today? We have some fantastic deals going on, especially on hats – they're 60% off!\", 'options': None}, {'role': 'user', 'metadata': {'title': None}, 'content': 'shoes', 'options': None}, {'role': 'assistant', 'metadata': {'title': None}, 'content': '\"We have a lovely selection of shoes, but I did want to mention that our hats are currently 60% off! It\\'s a fantastic deal, and a hat can really complete an outfit. Would you perhaps be interested in browsing our hat selection while you\\'re looking at shoes?\"', 'options': None}]\n"
     ]
    }
   ],
   "source": [
    "gr.ChatInterface(fn=chat, type=\"messages\").launch()"
   ]
  },
  {
   "cell_type": "code",
   "execution_count": null,
   "id": "bfac0782-486c-404d-80ae-4a28a94333c9",
   "metadata": {},
   "outputs": [],
   "source": []
  }
 ],
 "metadata": {
  "kernelspec": {
   "display_name": "Python 3 (ipykernel)",
   "language": "python",
   "name": "python3"
  },
  "language_info": {
   "codemirror_mode": {
    "name": "ipython",
    "version": 3
   },
   "file_extension": ".py",
   "mimetype": "text/x-python",
   "name": "python",
   "nbconvert_exporter": "python",
   "pygments_lexer": "ipython3",
   "version": "3.11.11"
  }
 },
 "nbformat": 4,
 "nbformat_minor": 5
}
